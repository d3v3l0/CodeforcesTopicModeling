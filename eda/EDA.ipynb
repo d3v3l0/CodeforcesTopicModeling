{
 "cells": [
  {
   "cell_type": "code",
   "execution_count": 85,
   "metadata": {},
   "outputs": [],
   "source": [
    "import pandas as pd\n",
    "import numpy as np\n",
    "import multiprocessing as mp\n",
    "\n",
    "import pickle\n",
    "import json\n",
    "import os\n",
    "from tqdm import tqdm\n",
    "\n",
    "from collections import Counter, OrderedDict"
   ]
  },
  {
   "cell_type": "code",
   "execution_count": 2,
   "metadata": {},
   "outputs": [],
   "source": [
    "data_folder = '../../data'\n",
    "def get_file(path):\n",
    "    return os.path.join(data_folder, path)"
   ]
  },
  {
   "cell_type": "code",
   "execution_count": 3,
   "metadata": {},
   "outputs": [
    {
     "data": {
      "text/html": [
       "<div>\n",
       "<style scoped>\n",
       "    .dataframe tbody tr th:only-of-type {\n",
       "        vertical-align: middle;\n",
       "    }\n",
       "\n",
       "    .dataframe tbody tr th {\n",
       "        vertical-align: top;\n",
       "    }\n",
       "\n",
       "    .dataframe thead th {\n",
       "        text-align: right;\n",
       "    }\n",
       "</style>\n",
       "<table border=\"1\" class=\"dataframe\">\n",
       "  <thead>\n",
       "    <tr style=\"text-align: right;\">\n",
       "      <th></th>\n",
       "      <th>participant_id</th>\n",
       "      <th>handle</th>\n",
       "      <th>contest_id</th>\n",
       "      <th>problem_lit</th>\n",
       "      <th>problem_id</th>\n",
       "      <th>solution_id</th>\n",
       "      <th>path</th>\n",
       "    </tr>\n",
       "  </thead>\n",
       "  <tbody>\n",
       "    <tr>\n",
       "      <th>0</th>\n",
       "      <td>4103956</td>\n",
       "      <td>teja.gravi</td>\n",
       "      <td>1</td>\n",
       "      <td>A</td>\n",
       "      <td>1</td>\n",
       "      <td>10005159</td>\n",
       "      <td>codeforces\\1\\A\\submissions\\10005159.program.cpp</td>\n",
       "    </tr>\n",
       "    <tr>\n",
       "      <th>1</th>\n",
       "      <td>4103956</td>\n",
       "      <td>teja.gravi</td>\n",
       "      <td>1</td>\n",
       "      <td>A</td>\n",
       "      <td>1</td>\n",
       "      <td>10005235</td>\n",
       "      <td>codeforces\\1\\A\\submissions\\10005235.program.cpp</td>\n",
       "    </tr>\n",
       "    <tr>\n",
       "      <th>2</th>\n",
       "      <td>2911164</td>\n",
       "      <td>3abdo</td>\n",
       "      <td>1</td>\n",
       "      <td>A</td>\n",
       "      <td>1</td>\n",
       "      <td>10007229</td>\n",
       "      <td>codeforces\\1\\A\\submissions\\10007229.program.cpp</td>\n",
       "    </tr>\n",
       "    <tr>\n",
       "      <th>3</th>\n",
       "      <td>4117284</td>\n",
       "      <td>Ybitsa2002</td>\n",
       "      <td>1</td>\n",
       "      <td>A</td>\n",
       "      <td>1</td>\n",
       "      <td>10007877</td>\n",
       "      <td>codeforces\\1\\A\\submissions\\10007877.program.cpp</td>\n",
       "    </tr>\n",
       "    <tr>\n",
       "      <th>4</th>\n",
       "      <td>4117209</td>\n",
       "      <td>kazisami</td>\n",
       "      <td>1</td>\n",
       "      <td>A</td>\n",
       "      <td>1</td>\n",
       "      <td>10010032</td>\n",
       "      <td>codeforces\\1\\A\\submissions\\10010032.program.cpp</td>\n",
       "    </tr>\n",
       "  </tbody>\n",
       "</table>\n",
       "</div>"
      ],
      "text/plain": [
       "   participant_id      handle  contest_id problem_lit  problem_id  \\\n",
       "0         4103956  teja.gravi           1           A           1   \n",
       "1         4103956  teja.gravi           1           A           1   \n",
       "2         2911164       3abdo           1           A           1   \n",
       "3         4117284  Ybitsa2002           1           A           1   \n",
       "4         4117209    kazisami           1           A           1   \n",
       "\n",
       "   solution_id                                             path  \n",
       "0     10005159  codeforces\\1\\A\\submissions\\10005159.program.cpp  \n",
       "1     10005235  codeforces\\1\\A\\submissions\\10005235.program.cpp  \n",
       "2     10007229  codeforces\\1\\A\\submissions\\10007229.program.cpp  \n",
       "3     10007877  codeforces\\1\\A\\submissions\\10007877.program.cpp  \n",
       "4     10010032  codeforces\\1\\A\\submissions\\10010032.program.cpp  "
      ]
     },
     "execution_count": 3,
     "metadata": {},
     "output_type": "execute_result"
    }
   ],
   "source": [
    "index = pd.read_csv(get_file('index.csv'))\n",
    "index.head()"
   ]
  },
  {
   "cell_type": "code",
   "execution_count": 4,
   "metadata": {},
   "outputs": [
    {
     "data": {
      "text/plain": [
       "(13876756, 7)"
      ]
     },
     "execution_count": 4,
     "metadata": {},
     "output_type": "execute_result"
    }
   ],
   "source": [
    "index.shape"
   ]
  },
  {
   "cell_type": "markdown",
   "metadata": {},
   "source": [
    "### Remove submits from other online judges"
   ]
  },
  {
   "cell_type": "code",
   "execution_count": 5,
   "metadata": {},
   "outputs": [],
   "source": [
    "handle_counts = index.handle.value_counts()\n",
    "handles, handle_counts = handle_counts.index, handle_counts.values"
   ]
  },
  {
   "cell_type": "code",
   "execution_count": 6,
   "metadata": {},
   "outputs": [
    {
     "name": "stdout",
     "output_type": "stream",
     "text": [
      "vjudge4 215306\n",
      "vjudge5 215034\n",
      "vjudge3 214359\n",
      "vjudge1 214286\n",
      "vjudge2 213752\n",
      "bnuvjudge 6502\n",
      "bnuvjudge2 3811\n",
      "bnuvjudge3 1781\n",
      "judge 976\n",
      "vjudge999 650\n",
      "ntu_vjudge_1 486\n",
      "sdauvjudge 469\n",
      "ntu_vjudge_2 459\n",
      "anothervjudge 365\n",
      "nitvjudge1 343\n",
      "nitvjudge2 316\n",
      "wust_judge_4 268\n",
      "CSUvjudge1 260\n",
      "wust_judge_2 253\n",
      "CSUvjudge2 249\n",
      "wust_judge_3 248\n",
      "wust_judge_1 237\n",
      "CSUvjudge3 220\n",
      "hdujudge5 194\n",
      "hdujudge1 188\n",
      "hdujudge9 188\n",
      "hdujudge8 187\n",
      "chdvjudge 186\n",
      "hdujudge7 182\n",
      "hdujudge10 179\n",
      "hdujudge3 179\n",
      "hdujudge4 170\n",
      "ntu-vjudge 168\n",
      "hdujudge2 164\n",
      "judgee 161\n",
      "hdujudge6 159\n",
      "wust_judge_5 154\n",
      "nitvjudge3 144\n",
      "vjudge18 112\n",
      "nitvjudge4 103\n",
      "nsoi_vjudge 94\n",
      "nsoi_vjudge2 92\n",
      "zjnuvjudge1 83\n",
      "zjnuvjudge2 81\n",
      "judgeee 80\n",
      "hpuvjudge 74\n",
      "zjnuvjudge3 74\n",
      "vjudge7 70\n",
      "AdzearDisjudge 67\n",
      "nswojvjudge3 67\n",
      "rejudgeX 60\n",
      "nsoi_vjudge1 55\n",
      "vjudge77 55\n",
      "zjudge 53\n",
      "judgejltiet2 51\n",
      "vjudge8 50\n",
      "codejudge 50\n",
      "vjudge91 48\n",
      "zjnuvjudge5 47\n",
      "judgeopi 41\n",
      "sjudge2 39\n",
      "vjudge22 34\n",
      "vjudge88 33\n",
      "judgeeeeee 30\n",
      "sjudge1 29\n",
      "sjudge3 28\n",
      "vjudge108 25\n",
      "vjudge99 24\n",
      "vjudge23 21\n",
      "vjudge21 18\n",
      "vjudge73520 18\n",
      "vjudge900 15\n",
      "vjudge0913 14\n",
      "vjudge256 13\n",
      "vjudge37 11\n",
      "vjudge42 11\n",
      "floj_judger1 8\n",
      "ujudge1 7\n",
      "seuvjudge 7\n",
      "fujudge 7\n",
      "judgeCrasher 7\n",
      "vjudge66 6\n",
      "robot4judge2 5\n",
      "vjudge.6 4\n",
      "judgefudge 4\n",
      "vjudge16 4\n",
      "XudianVjudge 4\n",
      "br_vjudge_0 4\n",
      "vjudge 3\n",
      "zzuvjudge0 3\n",
      "virtualjudge2534 3\n",
      "aastjudge 3\n",
      "robot4judge3 3\n",
      "floj_judger3 3\n",
      "vjudge0 2\n",
      "judge-x 2\n",
      "judgev 2\n",
      "robot4judge1 2\n",
      "vjudge100 2\n",
      "judgekcm 2\n",
      "vjudge6 2\n",
      "robot4judge5 2\n",
      "vjudge26 1\n",
      "judge8 1\n",
      "objudger 1\n",
      "himanshujudge9922 1\n",
      "rejudge 1\n",
      "ujudge 1\n",
      "vjudgeINF 1\n",
      "vjudge111 1\n",
      "metehanjudge5 1\n",
      "judgedsauce7 1\n",
      "onlinejudge19 1\n",
      "judgedownle 1\n",
      "vjudge102 1\n",
      "arashjudge 1\n"
     ]
    }
   ],
   "source": [
    "for handle, cnt in zip(handles, handle_counts):\n",
    "    if 'judge' in handle:\n",
    "        print(handle, cnt)"
   ]
  },
  {
   "cell_type": "code",
   "execution_count": 7,
   "metadata": {},
   "outputs": [],
   "source": [
    "def invalid(handle):\n",
    "    handle = str(handle)\n",
    "    bad_guys = ['Scut82', 'timeufpe', 'maratonando', 'maratonando2', 'maratonando3', 'Bannedaccount']\n",
    "    return 'luogu_bot' in handle.lower() or 'judge' in handle.lower() or handle in bad_guys\n",
    "\n",
    "judge_locations = np.array([invalid(handle) for handle in index.handle])"
   ]
  },
  {
   "cell_type": "code",
   "execution_count": 8,
   "metadata": {},
   "outputs": [],
   "source": [
    "index = index.loc[~judge_locations]"
   ]
  },
  {
   "cell_type": "code",
   "execution_count": 9,
   "metadata": {},
   "outputs": [
    {
     "data": {
      "text/plain": [
       "(12665495, 7)"
      ]
     },
     "execution_count": 9,
     "metadata": {},
     "output_type": "execute_result"
    }
   ],
   "source": [
    "index.shape"
   ]
  },
  {
   "cell_type": "code",
   "execution_count": 10,
   "metadata": {},
   "outputs": [],
   "source": [
    "handle_counts = index.handle.value_counts()"
   ]
  },
  {
   "cell_type": "markdown",
   "metadata": {},
   "source": [
    "### Now top-submitted users are real, with orange to red rating"
   ]
  },
  {
   "cell_type": "code",
   "execution_count": 11,
   "metadata": {},
   "outputs": [
    {
     "data": {
      "text/plain": [
       "SoiMae                   4057\n",
       "guille                   3772\n",
       "kmjp                     3395\n",
       "dreamoon_love_AA         3313\n",
       "TripleM5da               3174\n",
       "krijgertje               3159\n",
       "KrK                      3126\n",
       "I_love_Tanya_Romanova    3060\n",
       "Dalgerok                 2855\n",
       "ivan100sic               2851\n",
       "IHadInt                  2806\n",
       "chemthan                 2707\n",
       "Akikaze                  2540\n",
       "Heart_Blue               2512\n",
       "2-SAD                    2499\n",
       "spsmoj2                  2491\n",
       "bojverdict1              2475\n",
       "xjlinyueru               2475\n",
       "freebsdx                 2469\n",
       "Ashishgup                2428\n",
       "Name: handle, dtype: int64"
      ]
     },
     "execution_count": 11,
     "metadata": {},
     "output_type": "execute_result"
    }
   ],
   "source": [
    "handle_counts[:20]"
   ]
  },
  {
   "cell_type": "markdown",
   "metadata": {},
   "source": [
    "### Change paths to match ones on server"
   ]
  },
  {
   "cell_type": "code",
   "execution_count": 15,
   "metadata": {},
   "outputs": [],
   "source": [
    "def transform_path(path):\n",
    "    path = path.replace('\\\\', '/')\n",
    "    path = path.replace('codeforces', 'codeforces-clean')\n",
    "    return path\n",
    "\n",
    "def token_path(path):\n",
    "    cf, competition, problem, submissions, submission_id = path.split('/')\n",
    "    return f'tokens/{competition}/{competition}.{problem}.{submission_id}&tokens.csv'"
   ]
  },
  {
   "cell_type": "code",
   "execution_count": 16,
   "metadata": {},
   "outputs": [
    {
     "data": {
      "text/plain": [
       "('codeforces-clean/1/A/submissions/10005159.program.cpp',\n",
       " 'tokens/1/1.A.10005159.program.cpp&tokens.csv')"
      ]
     },
     "execution_count": 16,
     "metadata": {},
     "output_type": "execute_result"
    }
   ],
   "source": [
    "transform_path(index.path[0]), token_path(transform_path(index.path[0]))"
   ]
  },
  {
   "cell_type": "code",
   "execution_count": 17,
   "metadata": {},
   "outputs": [
    {
     "name": "stderr",
     "output_type": "stream",
     "text": [
      "/home/gb/.local/lib/python3.6/site-packages/ipykernel_launcher.py:2: UserWarning: Pandas doesn't allow columns to be created via a new attribute name - see https://pandas.pydata.org/pandas-docs/stable/indexing.html#attribute-access\n",
      "  \n"
     ]
    }
   ],
   "source": [
    "index.path = index.path.map(transform_path)"
   ]
  },
  {
   "cell_type": "code",
   "execution_count": 21,
   "metadata": {},
   "outputs": [],
   "source": [
    "index['token_path'] = index.path.map(token_path)"
   ]
  },
  {
   "cell_type": "code",
   "execution_count": 22,
   "metadata": {},
   "outputs": [],
   "source": [
    "index.to_csv(get_file('index_clean.csv'), index=False)"
   ]
  },
  {
   "cell_type": "markdown",
   "metadata": {},
   "source": [
    "### Load clean index"
   ]
  },
  {
   "cell_type": "code",
   "execution_count": 3,
   "metadata": {},
   "outputs": [],
   "source": [
    "index = pd.read_csv(get_file('index_clean.csv'))"
   ]
  },
  {
   "cell_type": "markdown",
   "metadata": {},
   "source": [
    "### Load tokens"
   ]
  },
  {
   "cell_type": "code",
   "execution_count": 97,
   "metadata": {},
   "outputs": [],
   "source": [
    "def collect_tokens(ind, total_inds):\n",
    "    token_counts = Counter()\n",
    "    start = ind * (len(index) // total_inds)\n",
    "    end = (ind + 1) * (len(index) // total_inds)\n",
    "    for i, token_path in enumerate(index.token_path[start:end]):\n",
    "        if i % 10000 == 0:\n",
    "            print(f'Proc {ind}, {i / (end-start) * 100}%')\n",
    "        submit_counts = pd.read_csv(get_file(token_path))\n",
    "        for token, cnt in zip(submit_counts['token'], submit_counts['count']):\n",
    "            token_counts[token] += cnt\n",
    "        del submit_counts\n",
    "    return token_counts"
   ]
  },
  {
   "cell_type": "code",
   "execution_count": null,
   "metadata": {},
   "outputs": [],
   "source": [
    "n_batches = 8\n",
    "pool = mp.Pool(mp.cpu_count())\n",
    "batch_counts = [pool.apply_async(collect_tokens, args=(i, n_batches)) for i in range(n_batches)]\n",
    "for count in batch_counts:\n",
    "    count.wait()\n",
    "pool.close()"
   ]
  },
  {
   "cell_type": "code",
   "execution_count": 101,
   "metadata": {},
   "outputs": [],
   "source": [
    "token_counts = sum(map(lambda bc: bc.get(), batch_counts), Counter())"
   ]
  },
  {
   "cell_type": "code",
   "execution_count": 104,
   "metadata": {},
   "outputs": [],
   "source": [
    "pickle.dump(token_counts, open('token_counts.pkl', 'wb'))"
   ]
  },
  {
   "cell_type": "code",
   "execution_count": 110,
   "metadata": {
    "scrolled": true
   },
   "outputs": [
    {
     "name": "stdout",
     "output_type": "stream",
     "text": [
      "i 141270436\n",
      "n 54147446\n",
      "a 39652331\n",
      "j 33981371\n",
      "x 26124219\n",
      "b 19457101\n",
      "cout 19239218\n",
      "s 18987105\n",
      "cin 18395042\n",
      "k 17898230\n",
      "ans 15840150\n",
      "m 15755628\n",
      "v 13353585\n",
      "main 12665967\n",
      "y 11690562\n",
      "c 11376150\n",
      "ll 10579322\n",
      "l 10151217\n",
      "r 9571585\n",
      "t 9289622\n",
      "p 9283884\n",
      "endl 7857174\n",
      "d 6534039\n",
      "scanf 6133572\n",
      "size 5872110\n",
      "printf 5715502\n",
      "u 5653228\n",
      "N 5582626\n",
      "sum 5200758\n",
      "cnt 5162754\n",
      "vector 4922106\n",
      "q 4911360\n",
      "f 4828098\n",
      "dp 4583430\n",
      "arr 4264706\n",
      "res 4207639\n",
      "string 3989093\n",
      "max 3597153\n",
      "min 3295143\n",
      "push_back 3225735\n",
      "first 2957946\n",
      "second 2784804\n",
      "mid 2634279\n",
      "g 2631555\n",
      "w 2567587\n",
      "A 2556143\n",
      "num 2475539\n",
      "pos 2459387\n",
      "it 2429420\n",
      "e 2343484\n",
      "h 2340294\n",
      "T 2315821\n",
      "end 2279965\n",
      "z 2220041\n",
      "str 2198991\n",
      "begin 2196866\n",
      "sort 2161156\n",
      "tmp 2117998\n",
      "tie 2101672\n",
      "std 2094193\n",
      "cur 2092813\n",
      "sync_with_stdio 2087003\n",
      "temp 2067956\n",
      "flag 2010742\n",
      "st 1933235\n",
      "maxn 1868008\n",
      "len 1861923\n",
      "val 1783902\n",
      "pair 1708199\n",
      "node 1691793\n",
      "mod 1630326\n",
      "mp 1610226\n",
      "count 1609308\n",
      "LL 1586212\n",
      "dfs 1572702\n",
      "vis 1499357\n",
      "ch 1491296\n",
      "id 1488249\n",
      "mx 1469607\n",
      "ret 1456086\n",
      "M 1434644\n",
      "s1 1410078\n",
      "pb 1383384\n",
      "S 1340027\n",
      "abs 1306905\n",
      "solve 1294616\n",
      "ios_base 1289264\n",
      "now 1277749\n",
      "MAXN 1231774\n",
      "L 1223494\n",
      "sz 1203565\n",
      "rep 1199928\n",
      "B 1151372\n",
      "R 1144017\n",
      "freopen 1136841\n",
      "length 1132897\n",
      "x1 1109831\n",
      "insert 1105504\n",
      "s2 1085604\n",
      "idx 1031563\n"
     ]
    }
   ],
   "source": [
    "for token, cnt in token_counts.most_common()[:100]:\n",
    "    print(token, cnt)"
   ]
  },
  {
   "cell_type": "code",
   "execution_count": 113,
   "metadata": {
    "scrolled": true
   },
   "outputs": [],
   "source": [
    "unique_tokens = len(token_counts)\n",
    "total_tokens = sum(token_counts.values())"
   ]
  },
  {
   "cell_type": "code",
   "execution_count": 114,
   "metadata": {},
   "outputs": [
    {
     "data": {
      "text/plain": [
       "(1241516, 940263220)"
      ]
     },
     "execution_count": 114,
     "metadata": {},
     "output_type": "execute_result"
    }
   ],
   "source": [
    "unique_tokens, total_tokens"
   ]
  },
  {
   "cell_type": "code",
   "execution_count": 121,
   "metadata": {},
   "outputs": [
    {
     "name": "stdout",
     "output_type": "stream",
     "text": [
      "At 0.1: 1 tokens, 0.000\n",
      "At 0.2: 2 tokens, 0.000\n",
      "At 0.3: 5 tokens, 0.000\n",
      "At 0.4: 10 tokens, 0.000\n",
      "At 0.5: 17 tokens, 0.000\n",
      "At 0.6: 29 tokens, 0.000\n",
      "At 0.7: 59 tokens, 0.000\n",
      "At 0.8: 141 tokens, 0.000\n",
      "At 0.9: 573 tokens, 0.000\n",
      "At 0.99: 85182 tokens, 0.069\n",
      "At 0.999: 841973 tokens, 0.678\n",
      "At 1.0: 1241516 tokens, 1.000\n"
     ]
    }
   ],
   "source": [
    "total = 0\n",
    "unique = 0\n",
    "ratios = [0.1, 0.2, 0.3, 0.4, 0.5, 0.6, 0.7, 0.8, 0.9, 0.99, 0.999, 1.]\n",
    "cur_ratio = 0\n",
    "for token, cnt in token_counts.most_common():\n",
    "    total += cnt\n",
    "    unique += 1\n",
    "    if total / total_tokens >= ratios[cur_ratio]:\n",
    "        print(f'At {ratios[cur_ratio]}: {unique} tokens, {unique / unique_tokens:.3f}')\n",
    "        cur_ratio += 1"
   ]
  },
  {
   "cell_type": "code",
   "execution_count": 124,
   "metadata": {},
   "outputs": [
    {
     "name": "stdout",
     "output_type": "stream",
     "text": [
      "At 100000: 515 tokens, 0.000\n",
      "At 10000: 2186 tokens, 0.002\n",
      "At 1000: 10508 tokens, 0.008\n",
      "At 100: 55703 tokens, 0.045\n",
      "At 50: 92902 tokens, 0.075\n",
      "At 20: 186810 tokens, 0.150\n",
      "At 10: 327058 tokens, 0.263\n",
      "At 5: 587850 tokens, 0.473\n",
      "At 3: 840847 tokens, 0.677\n",
      "At 1: 1198276 tokens, 0.965\n"
     ]
    }
   ],
   "source": [
    "total = 0\n",
    "unique = 0\n",
    "threshold = [100000, 10000, 1000, 100, 50, 20, 10, 5, 3, 1]\n",
    "cur_th = 0\n",
    "for token, cnt in token_counts.most_common():\n",
    "    total += cnt\n",
    "    unique += 1\n",
    "    if cur_th < len(threshold) and cnt <= threshold[cur_th]:\n",
    "        print(f'At {threshold[cur_th]}: {unique} tokens, {unique / unique_tokens:.3f}')\n",
    "        cur_th += 1"
   ]
  },
  {
   "cell_type": "markdown",
   "metadata": {},
   "source": [
    "### Load saved token counts"
   ]
  },
  {
   "cell_type": "code",
   "execution_count": 4,
   "metadata": {},
   "outputs": [],
   "source": [
    "token_counts = pickle.load(open('token_counts.pkl', 'rb'))"
   ]
  },
  {
   "cell_type": "markdown",
   "metadata": {},
   "source": [
    "### Load tags"
   ]
  },
  {
   "cell_type": "code",
   "execution_count": 6,
   "metadata": {},
   "outputs": [],
   "source": [
    "def path_to_problem(path):\n",
    "    d, c, p, _, _ = path.split('/')\n",
    "    return '/'.join((d, c, p))"
   ]
  },
  {
   "cell_type": "code",
   "execution_count": 7,
   "metadata": {},
   "outputs": [],
   "source": [
    "problems = set()\n",
    "\n",
    "for path in index.path:\n",
    "    problems.add(path_to_problem(path))"
   ]
  },
  {
   "cell_type": "code",
   "execution_count": 8,
   "metadata": {},
   "outputs": [],
   "source": [
    "tags = {}\n",
    "for problem in problems:\n",
    "    meta = json.load(open(get_file(os.path.join(problem, 'meta.json')), 'r'))\n",
    "    tags[problem] = meta['tags']"
   ]
  },
  {
   "cell_type": "code",
   "execution_count": 9,
   "metadata": {},
   "outputs": [],
   "source": [
    "def collect_token_to_tag(ind, total_inds, min_token_count=50):\n",
    "    start = ind * (len(index) // total_inds)\n",
    "    end = (ind + 1) * (len(index) // total_inds)\n",
    "    token_to_tag_counts = {}\n",
    "    for i, (path, token_path) in enumerate(zip(index.path[start:end], index.token_path[start:end])):\n",
    "        if i % 10000 == 0:\n",
    "            print(f'Proc {ind}, {i / (end-start) * 100}%')\n",
    "\n",
    "        problem = path_to_problem(path)\n",
    "        \n",
    "        submit_counts = pd.read_csv(get_file(token_path))\n",
    "        for token, cnt in zip(submit_counts['token'], submit_counts['count']):\n",
    "            if token_counts[token] >= min_token_count:\n",
    "                if token not in token_to_tag_counts:\n",
    "                    token_to_tag_counts[token] = Counter()\n",
    "        \n",
    "                for tag in tags[problem]:            \n",
    "                    token_to_tag_counts[token][tag] += cnt\n",
    "\n",
    "        del submit_counts\n",
    "    return token_to_tag_counts"
   ]
  },
  {
   "cell_type": "code",
   "execution_count": null,
   "metadata": {
    "scrolled": true
   },
   "outputs": [],
   "source": [
    "n_batches = 8\n",
    "pool = mp.Pool(mp.cpu_count())\n",
    "batch_tag_token_counts = [pool.apply_async(collect_token_to_tag, args=(i, n_batches)) for i in range(n_batches)]\n",
    "for count in batch_tag_token_counts:\n",
    "    count.wait()\n",
    "pool.close()"
   ]
  },
  {
   "cell_type": "code",
   "execution_count": 12,
   "metadata": {},
   "outputs": [],
   "source": [
    "token_tag_counts = {}\n",
    "for token_tag in batch_tag_token_counts:\n",
    "    token_tag = token_tag.get()\n",
    "    for token, tag_counts in token_tag.items():\n",
    "        if token not in token_tag_counts:\n",
    "            token_tag_counts[token] = Counter()\n",
    "        token_tag_counts[token] += tag_counts"
   ]
  },
  {
   "cell_type": "code",
   "execution_count": 13,
   "metadata": {},
   "outputs": [],
   "source": [
    "pickle.dump(token_tag_counts, open('token_tag_counts.pkl', 'wb'))"
   ]
  },
  {
   "cell_type": "markdown",
   "metadata": {},
   "source": [
    "### Load token-tag dictionary"
   ]
  },
  {
   "cell_type": "code",
   "execution_count": 5,
   "metadata": {},
   "outputs": [],
   "source": [
    "token_tag_counts = pickle.load(open('token_tag_counts.pkl', 'rb'))"
   ]
  },
  {
   "cell_type": "code",
   "execution_count": 97,
   "metadata": {
    "scrolled": true
   },
   "outputs": [],
   "source": [
    "token_tag_ratios = {}\n",
    "for token, tag_counts in token_tag_counts.items():\n",
    "    token_tag_ratios[token] = []\n",
    "    for tag, cnt in tag_counts.most_common():\n",
    "        token_tag_ratios[token].append((tag, cnt / token_counts[token]))"
   ]
  },
  {
   "cell_type": "code",
   "execution_count": 98,
   "metadata": {},
   "outputs": [],
   "source": [
    "def tiktok(token):\n",
    "    return token_counts[token], token_tag_ratios[token]"
   ]
  },
  {
   "cell_type": "code",
   "execution_count": 106,
   "metadata": {},
   "outputs": [
    {
     "name": "stdout",
     "output_type": "stream",
     "text": [
      "ceil 127976 [('math', 0.6681955991748453), ('implementation', 0.3168094017628305), ('greedy', 0.1964118272176033), ('constructive algorithms', 0.10609801837844596), ('binary search', 0.09307213852597362)]\n",
      "\n",
      "counter 285978 [('implementation', 0.6205966892558169), ('greedy', 0.2510752575372931), ('brute force', 0.2131667470924337), ('math', 0.1563581813985691), ('strings', 0.11811398079572555)]\n",
      "\n",
      "string 3989093 [('implementation', 0.6008503687429699), ('strings', 0.3973640123205952), ('greedy', 0.21844940692031997), ('brute force', 0.1926884131305036), ('dp', 0.11124634096021326)]\n",
      "\n",
      "str 2198991 [('implementation', 0.6041375339871786), ('strings', 0.4083286379980637), ('greedy', 0.23521878898094625), ('brute force', 0.18894984108620727), ('dp', 0.12054801497595943)]\n",
      "\n",
      "count2 54130 [('implementation', 0.6404027341585073), ('greedy', 0.33026048401995195), ('math', 0.20175503417698135), ('brute force', 0.17986329207463514), ('strings', 0.17814520598559025)]\n",
      "\n",
      "fact 164358 [('combinatorics', 0.6302461699460933), ('math', 0.5884836758782658), ('dp', 0.4910561092249845), ('number theory', 0.319522019007289), ('brute force', 0.24841504520619623)]\n",
      "\n",
      "isprime 55157 [('number theory', 0.6901934477944776), ('math', 0.6035861268741954), ('brute force', 0.28612868720198703), ('implementation', 0.2395162898634806), ('greedy', 0.14210345015138603)]\n",
      "\n",
      "str1 148830 [('implementation', 0.6789021030706175), ('strings', 0.5770140428677014), ('greedy', 0.2145871128132769), ('brute force', 0.1398978700530807), ('dp', 0.08904118793254048)]\n",
      "\n",
      "str2 125465 [('implementation', 0.6804845972980512), ('strings', 0.5768301916869246), ('greedy', 0.21331845534611246), ('brute force', 0.14569800342725062), ('dp', 0.09430518471286813)]\n",
      "\n",
      "count1 97702 [('implementation', 0.6141532414894271), ('greedy', 0.31715829768070253), ('brute force', 0.1898016417268838), ('math', 0.17567705881148798), ('strings', 0.16349716484821192)]\n",
      "\n",
      "score 89813 [('implementation', 0.6224488659770857), ('greedy', 0.21172881431418614), ('brute force', 0.1803970471980671), ('sortings', 0.17700110229031432), ('hashing', 0.1494215759411221)]\n",
      "\n",
      "substr 258010 [('implementation', 0.6305918375256773), ('strings', 0.5997131894112632), ('brute force', 0.2581140265881167), ('greedy', 0.18908957017169878), ('dp', 0.1158869811247626)]\n",
      "\n",
      "block 55309 [('data structures', 0.6788768554846408), ('implementation', 0.2743857238424126), ('math', 0.16136614294237828), ('two pointers', 0.1207036829449095), ('brute force', 0.11582201811640058)]\n",
      "\n",
      "flag2 58199 [('implementation', 0.6515747693259334), ('greedy', 0.2629942095225004), ('brute force', 0.24350933864843038), ('strings', 0.2075293389920789), ('math', 0.15146308355813673)]\n",
      "\n",
      "flag1 65367 [('implementation', 0.6531430232380253), ('greedy', 0.26394052044609667), ('brute force', 0.24206403842917681), ('strings', 0.20779598268239324), ('math', 0.14735263971116924)]\n",
      "\n",
      "a3 132712 [('implementation', 0.6174046054614504), ('brute force', 0.27106817770811986), ('constructive algorithms', 0.2655524745313159), ('math', 0.21912110434625354), ('greedy', 0.1412607752124902)]\n",
      "\n",
      "npos 51003 [('implementation', 0.6173950551928318), ('strings', 0.5595553202752779), ('brute force', 0.22573181969688058), ('greedy', 0.19406701566574516), ('dp', 0.14942258298531458)]\n",
      "\n",
      "s3 167351 [('implementation', 0.6183888951963239), ('strings', 0.2979844757426009), ('brute force', 0.24878847452360608), ('greedy', 0.18786861148125794), ('math', 0.14561012482745844)]\n",
      "\n",
      "dfs 1572702 [('dfs and similar', 0.6903062372909807), ('graphs', 0.47650095186500685), ('trees', 0.4301418832048284), ('dp', 0.2662793078409006), ('dsu', 0.17332654247276344)]\n",
      "\n",
      "dir 201672 [('implementation', 0.6041592288468404), ('dfs and similar', 0.2872833115157285), ('brute force', 0.21906362806934032), ('greedy', 0.19979471617279543), ('graphs', 0.19410726327898767)]\n",
      "\n",
      "lc 116061 [('data structures', 0.6270668010787431), ('implementation', 0.2208924617227148), ('trees', 0.19631056082577267), ('dp', 0.14363998242303616), ('math', 0.1273554423966707)]\n",
      "\n",
      "edge 441508 [('graphs', 0.6138303269702927), ('dfs and similar', 0.463418556402149), ('trees', 0.35046024081103855), ('dp', 0.20270980367286662), ('data structures', 0.19994428187031718)]\n",
      "\n",
      "edges 212527 [('graphs', 0.6872209178127956), ('dfs and similar', 0.48974012713678733), ('trees', 0.32800538284547376), ('dsu', 0.24234097314694134), ('greedy', 0.17944543516823744)]\n",
      "\n",
      "c3 83978 [('implementation', 0.6991354878658697), ('greedy', 0.4072495177308343), ('brute force', 0.21897401700445354), ('math', 0.1649836862035295), ('dp', 0.11079092143180357)]\n",
      "\n",
      "rc 98890 [('data structures', 0.6236626554757811), ('implementation', 0.2217109920113257), ('trees', 0.1361411669531803), ('math', 0.1345434320962686), ('binary search', 0.1334007483061988)]\n",
      "\n",
      "fac 131772 [('math', 0.6125656436875816), ('combinatorics', 0.5961812828218438), ('dp', 0.5220152991530826), ('number theory', 0.3434568800655678), ('brute force', 0.18258051786418966)]\n",
      "\n",
      "adj 749900 [('dfs and similar', 0.6208001066808908), ('graphs', 0.5788611814908654), ('trees', 0.430937458327777), ('dp', 0.22886784904653953), ('greedy', 0.17648219762635017)]\n",
      "\n",
      "gets 80305 [('implementation', 0.6322644916256771), ('strings', 0.4198866820247805), ('greedy', 0.17704999688686882), ('brute force', 0.13771247120353652), ('dp', 0.10592117551833634)]\n",
      "\n",
      "merge 114597 [('data structures', 0.6280356379311849), ('dsu', 0.2976692234526209), ('dfs and similar', 0.24229255565154412), ('trees', 0.2388718727366336), ('graphs', 0.22098309728875973)]\n",
      "\n",
      "Edge 114203 [('graphs', 0.6014115215887499), ('dfs and similar', 0.36525310193252364), ('trees', 0.2964458026496677), ('flows', 0.2273232752204408), ('data structures', 0.19138726653415408)]\n",
      "\n",
      "__gcd 117233 [('math', 0.6227598031271059), ('number theory', 0.5480282855509967), ('brute force', 0.2547405593988041), ('implementation', 0.22538875572577688), ('greedy', 0.15333566487251882)]\n",
      "\n",
      "depth 162121 [('trees', 0.6970657718617576), ('dfs and similar', 0.5476465109393601), ('data structures', 0.44474189031649203), ('graphs', 0.3487641946447407), ('dp', 0.22291991783914483)]\n",
      "\n",
      "bfs 142356 [('graphs', 0.6257832476326955), ('dfs and similar', 0.5813664334485374), ('shortest paths', 0.3930146955519964), ('trees', 0.20632779791508613), ('greedy', 0.18713647475343506)]\n",
      "\n",
      "graph 241279 [('graphs', 0.6487924767592704), ('dfs and similar', 0.6323550744159251), ('trees', 0.3548423194724779), ('dp', 0.18997923565664646), ('greedy', 0.17425470098931112)]\n",
      "\n",
      "Find 61921 [('dsu', 0.6011207829330921), ('graphs', 0.4987645548360007), ('dfs and similar', 0.4978763262867202), ('data structures', 0.27221782593950355), ('greedy', 0.22559390190726894)]\n",
      "\n",
      "dep 252382 [('trees', 0.6856194181835472), ('dfs and similar', 0.49990490605510696), ('data structures', 0.44720701159353676), ('graphs', 0.344671965512596), ('dp', 0.21370382990863057)]\n",
      "\n",
      "grid 163528 [('implementation', 0.6305953720463774), ('brute force', 0.29948388043637786), ('dfs and similar', 0.2297160119367937), ('greedy', 0.18619441318917862), ('dp', 0.16563524289418327)]\n",
      "\n",
      "board 67879 [('implementation', 0.6965924660056866), ('brute force', 0.35090381413986654), ('greedy', 0.18085122055422148), ('dfs and similar', 0.16326109695192917), ('constructive algorithms', 0.13199958750128907)]\n",
      "\n",
      "deep 54365 [('trees', 0.6989607284098225), ('dfs and similar', 0.5508323369815138), ('data structures', 0.4165915570679665), ('graphs', 0.3570679665225789), ('dp', 0.24403568472362733)]\n",
      "\n",
      "dfn 69757 [('graphs', 0.6867411155869662), ('dfs and similar', 0.6815803431913643), ('trees', 0.4630789741531316), ('data structures', 0.3196381725131528), ('dp', 0.16991843112519173)]\n",
      "\n",
      "days 58941 [('implementation', 0.6565378938260295), ('greedy', 0.3675539946726387), ('math', 0.2520316927096588), ('brute force', 0.2154697069951307), ('binary search', 0.2055445275784259)]\n",
      "\n"
     ]
    }
   ],
   "source": [
    "for token, counts in token_tag_ratios.items():\n",
    "    if token_counts[token] > 50000 and 0.7 > counts[0][1] > 0.6:\n",
    "        print(token, token_counts[token], counts[:5])\n",
    "        print()"
   ]
  },
  {
   "cell_type": "code",
   "execution_count": 49,
   "metadata": {},
   "outputs": [
    {
     "data": {
      "text/plain": [
       "94325"
      ]
     },
     "execution_count": 49,
     "metadata": {},
     "output_type": "execute_result"
    }
   ],
   "source": [
    "len(token_tag_counts)"
   ]
  },
  {
   "cell_type": "code",
   "execution_count": 114,
   "metadata": {},
   "outputs": [
    {
     "data": {
      "text/plain": [
       "(9517,\n",
       " [('implementation', 0.47052642639487235),\n",
       "  ('math', 0.45518545760218554),\n",
       "  ('greedy', 0.23631396448460648),\n",
       "  ('brute force', 0.1784175685615215),\n",
       "  ('dp', 0.1443732268572029),\n",
       "  ('number theory', 0.13974992119365345),\n",
       "  ('constructive algorithms', 0.12367342649994746),\n",
       "  ('binary search', 0.07302721445833771),\n",
       "  ('strings', 0.07292213932962067),\n",
       "  ('sortings', 0.0527477146159504),\n",
       "  ('combinatorics', 0.05201218871493118),\n",
       "  ('data structures', 0.041084375328359776),\n",
       "  ('bitmasks', 0.03141746348639277),\n",
       "  ('fft', 0.030366712199222445),\n",
       "  ('dfs and similar', 0.029315960912052116),\n",
       "  ('graphs', 0.02511295576337081),\n",
       "  ('two pointers', 0.018598297782914785),\n",
       "  ('trees', 0.016181569822423032),\n",
       "  ('geometry', 0.01565619417883787),\n",
       "  ('shortest paths', 0.013869916990648313),\n",
       "  ('*special', 0.007985709782494483),\n",
       "  ('dsu', 0.00588420720815383),\n",
       "  ('matrices', 0.005568981822002732),\n",
       "  ('chinese remainder theorem', 0.004833455920983503),\n",
       "  ('string suffix structures', 0.0044131554061153724),\n",
       "  ('meet-in-the-middle', 0.0039928548912472415),\n",
       "  ('games', 0.003572554376379111),\n",
       "  ('ternary search', 0.003572554376379111),\n",
       "  ('interactive', 0.003257328990228013),\n",
       "  ('hashing', 0.0031522538615109804),\n",
       "  ('divide and conquer', 0.002311652831774719),\n",
       "  ('probabilities', 0.0013659766733214247),\n",
       "  ('expression parsing', 0.0013659766733214247),\n",
       "  ('flows', 0.0012609015446043922),\n",
       "  ('graph matchings', 0.00021015025743406537)])"
      ]
     },
     "execution_count": 114,
     "metadata": {},
     "output_type": "execute_result"
    }
   ],
   "source": [
    "tiktok('remainder')"
   ]
  },
  {
   "cell_type": "markdown",
   "metadata": {},
   "source": [
    "### There are some tokens that contain valuable information about the tags"
   ]
  },
  {
   "cell_type": "code",
   "execution_count": null,
   "metadata": {},
   "outputs": [],
   "source": []
  }
 ],
 "metadata": {
  "kernelspec": {
   "display_name": "Python 3",
   "language": "python",
   "name": "python3"
  },
  "language_info": {
   "codemirror_mode": {
    "name": "ipython",
    "version": 3
   },
   "file_extension": ".py",
   "mimetype": "text/x-python",
   "name": "python",
   "nbconvert_exporter": "python",
   "pygments_lexer": "ipython3",
   "version": "3.6.8"
  }
 },
 "nbformat": 4,
 "nbformat_minor": 2
}
